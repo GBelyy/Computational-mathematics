{
 "cells": [
  {
   "cell_type": "code",
   "execution_count": 18,
   "metadata": {},
   "outputs": [
    {
     "data": {
      "text/plain": [
       "0.13802305879584592"
      ]
     },
     "execution_count": 18,
     "metadata": {},
     "output_type": "execute_result"
    }
   ],
   "source": [
    "import math\n",
    "import numpy as np\n",
    "import matplotlib.pyplot as plt\n",
    "\n",
    "yk_array = []\n",
    "\n",
    "def Shooting_method(a):\n",
    "    global yk_array\n",
    "    #Начальные условия\n",
    "    y0 = 0\n",
    "    dy0 = a # Для первой производной подбираем параметр - метод пристрелки\n",
    "    x0 = 0\n",
    "    x1 = 1\n",
    "\n",
    "    N = 10000 \n",
    "    h = (x1 - x0)/N #Шаг\n",
    "\n",
    "    xk = x0\n",
    "    yk = 0\n",
    "    dyk = dy0\n",
    "    yk_array = [yk]\n",
    "    \n",
    "    def Euler_method(xn1, yn1, dyn1):\n",
    "        yn2 = yn1 + h*dyn1 # Метод Эйлера\n",
    "        dyn2 = dyn1 + h*(xn1*math.sqrt(yn1)) # Также метод Эйлера, только из данного уравнение выразиил y\" и подставили сюда\n",
    "        return (yn2, dyn2)\n",
    "    while xk<x1:\n",
    "        yk, dyk = Euler_method(xk, yk, dyk)\n",
    "        yk_array.append(yk)\n",
    "        xk += h\n",
    "    return yk\n",
    "\n",
    "\n",
    "Shooting_method(0.1)"
   ]
  },
  {
   "cell_type": "code",
   "execution_count": 19,
   "metadata": {},
   "outputs": [
    {
     "data": {
      "text/plain": [
       "1.842777992540448"
      ]
     },
     "execution_count": 19,
     "metadata": {},
     "output_type": "execute_result"
    }
   ],
   "source": [
    "#Метод Ньютона локализации корней для локализации параметра а\n",
    "h = 1e-3\n",
    "F = lambda a: Shooting_method(a) - 2 # y(a) - y(1)\n",
    "dF = lambda a: (F(a+h)-F(a))/h\n",
    "an = 0.1\n",
    "for i in range(1000):\n",
    "    an = an - (F(an)/dF(an))\n",
    "\n",
    "an"
   ]
  },
  {
   "cell_type": "code",
   "execution_count": 20,
   "metadata": {},
   "outputs": [
    {
     "data": {
      "text/plain": [
       "1.9999999999999996"
      ]
     },
     "execution_count": 20,
     "metadata": {},
     "output_type": "execute_result"
    }
   ],
   "source": [
    "Shooting_method(an)"
   ]
  },
  {
   "cell_type": "code",
   "execution_count": 23,
   "metadata": {},
   "outputs": [
    {
     "data": {
      "text/plain": [
       "[<matplotlib.lines.Line2D at 0x103dee20>]"
      ]
     },
     "execution_count": 23,
     "metadata": {},
     "output_type": "execute_result"
    },
    {
     "data": {
      "image/png": "[encoded data removed]",
      "text/plain": [
       "<Figure size 432x288 with 1 Axes>"
      ]
     },
     "metadata": {
      "needs_background": "light"
     },
     "output_type": "display_data"
    }
   ],
   "source": [
    "plt.plot(np.linspace(0, 1, len(yk_array)), yk_array)"
   ]
  }
 ],
 "metadata": {
  "interpreter": {
   "hash": "7a542ca580817fc4dd55327026e074e2fa0cd470fc5dee9350c2d8b13822db8d"
  },
  "kernelspec": {
   "display_name": "Python 3.8.5 32-bit",
   "language": "python",
   "name": "python3"
  },
  "language_info": {
   "codemirror_mode": {
    "name": "ipython",
    "version": 3
   },
   "file_extension": ".py",
   "mimetype": "text/x-python",
   "name": "python",
   "nbconvert_exporter": "python",
   "pygments_lexer": "ipython3",
   "version": "3.8.5"
  },
  "orig_nbformat": 4
 },
 "nbformat": 4,
 "nbformat_minor": 2
}
