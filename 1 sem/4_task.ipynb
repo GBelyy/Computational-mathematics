{
 "cells": [
  {
   "cell_type": "code",
   "execution_count": 8,
   "metadata": {},
   "outputs": [
    {
     "data": {
      "text/plain": [
       "14.43858199038913"
      ]
     },
     "execution_count": 8,
     "metadata": {},
     "output_type": "execute_result"
    }
   ],
   "source": [
    "import math\n",
    "import numpy as np\n",
    "import pandas as pd\n",
    "import matplotlib.pyplot as plt \n",
    "\n",
    "x0 = math.e\n",
    "x1 = math.e**2\n",
    "y0 = math.e\n",
    "y1 = 2*math.e**2\n",
    "\n",
    "yn_array = []\n",
    "target = [3, 4, 5, 6, 7]\n",
    "y_target = []\n",
    "\n",
    "f = lambda x, y, dy: math.sqrt( (1/x**2) + (math.e*(y**2)/math.log(x)) - math.exp(dy)*y )\n",
    "def Shooting_method(a):\n",
    "    global yn_array, y_target\n",
    "    dy0 = a\n",
    "\n",
    "    N = 10000\n",
    "    h = (x1 - x0)/N\n",
    "\n",
    "    def Euler_method(xn, yn, dyn):\n",
    "        ynext = yn + h*dyn\n",
    "        dynext = dyn + h*f(xn, yn, dyn)\n",
    "        return (ynext, dynext)\n",
    "\n",
    "    xn = x0\n",
    "    yn = y0\n",
    "    dyn = dy0\n",
    "    yn_array = [yn]\n",
    "    y_target = []\n",
    "    while xn<x1:\n",
    "        yn, dyn = Euler_method(xn, yn, dyn)\n",
    "        yn_array.append(yn)\n",
    "        xn += h\n",
    "        for t in target:\n",
    "            if abs(xn-t)<h/2:\n",
    "                y_target.append(yn)\n",
    "                break\n",
    "    return yn\n",
    "\n",
    "Shooting_method(1)"
   ]
  },
  {
   "cell_type": "code",
   "execution_count": 9,
   "metadata": {},
   "outputs": [
    {
     "data": {
      "text/plain": [
       "2.005370766075815"
      ]
     },
     "execution_count": 9,
     "metadata": {},
     "output_type": "execute_result"
    }
   ],
   "source": [
    "h = 1e-3\n",
    "def Newtons():\n",
    " F = lambda a: Shooting_method(a) - y1\n",
    " dF = lambda a: (F(a+h)-F(a))/h\n",
    " an = 1\n",
    " for i in range(100):\n",
    "    an = an - (F(an)/dF(an))\n",
    "\n",
    " return an\n",
    "\n",
    "an = Newtons()\n",
    "Shooting_method(an) - y1"
   ]
  },
  {
   "cell_type": "code",
   "execution_count": 12,
   "metadata": {},
   "outputs": [
    {
     "data": {
      "text/html": [
       "<div>\n",
       "<style scoped>\n",
       "    .dataframe tbody tr th:only-of-type {\n",
       "        vertical-align: middle;\n",
       "    }\n",
       "\n",
       "    .dataframe tbody tr th {\n",
       "        vertical-align: top;\n",
       "    }\n",
       "\n",
       "    .dataframe thead th {\n",
       "        text-align: right;\n",
       "    }\n",
       "</style>\n",
       "<table border=\"1\" class=\"dataframe\">\n",
       "  <thead>\n",
       "    <tr style=\"text-align: right;\">\n",
       "      <th></th>\n",
       "      <th>0</th>\n",
       "      <th>1</th>\n",
       "      <th>2</th>\n",
       "      <th>3</th>\n",
       "      <th>4</th>\n",
       "    </tr>\n",
       "  </thead>\n",
       "  <tbody>\n",
       "    <tr>\n",
       "      <th>x</th>\n",
       "      <td>3.000000</td>\n",
       "      <td>4.000000</td>\n",
       "      <td>5.000000</td>\n",
       "      <td>6.000000</td>\n",
       "      <td>7.000000</td>\n",
       "    </tr>\n",
       "    <tr>\n",
       "      <th>y</th>\n",
       "      <td>3.295842</td>\n",
       "      <td>5.545158</td>\n",
       "      <td>8.047154</td>\n",
       "      <td>10.750513</td>\n",
       "      <td>13.621326</td>\n",
       "    </tr>\n",
       "  </tbody>\n",
       "</table>\n",
       "</div>"
      ],
      "text/plain": [
       "          0         1         2          3          4\n",
       "x  3.000000  4.000000  5.000000   6.000000   7.000000\n",
       "y  3.295842  5.545158  8.047154  10.750513  13.621326"
      ]
     },
     "execution_count": 12,
     "metadata": {},
     "output_type": "execute_result"
    }
   ],
   "source": [
    "\n",
    "pd.DataFrame({'x': target, 'y': y_target}).transpose()"
   ]
  }
 ],
 "metadata": {
  "interpreter": {
   "hash": "7a542ca580817fc4dd55327026e074e2fa0cd470fc5dee9350c2d8b13822db8d"
  },
  "kernelspec": {
   "display_name": "Python 3.8.5 32-bit",
   "language": "python",
   "name": "python3"
  },
  "language_info": {
   "codemirror_mode": {
    "name": "ipython",
    "version": 3
   },
   "file_extension": ".py",
   "mimetype": "text/x-python",
   "name": "python",
   "nbconvert_exporter": "python",
   "pygments_lexer": "ipython3",
   "version": "3.8.5"
  },
  "orig_nbformat": 4
 },
 "nbformat": 4,
 "nbformat_minor": 2
}
