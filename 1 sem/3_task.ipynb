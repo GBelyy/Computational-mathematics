{
 "cells": [
  {
   "cell_type": "code",
   "execution_count": 1,
   "metadata": {},
   "outputs": [
    {
     "data": {
      "text/plain": [
       "-40.51630417070785"
      ]
     },
     "execution_count": 1,
     "metadata": {},
     "output_type": "execute_result"
    }
   ],
   "source": [
    "import math\n",
    "import numpy as np\n",
    "import matplotlib.pyplot as plt\n",
    "import pandas as pd\n",
    "\n",
    "x0 = 0\n",
    "x1 = math.pi\n",
    "y0 = 0\n",
    "y1 = math.pi**2\n",
    "\n",
    "\n",
    "yn_array = []\n",
    "target = [0.5, 1, 1.5, 2, 2.5, 3]\n",
    "y_target = []\n",
    "\n",
    "f = lambda x, y, dy: 2 - 6*x + 2*(x**3) + (x**2 - 3)*math.exp(x)*math.sin(x)*(1+math.cos(x)) + math.cos(x)*(math.exp(x)+(x**2-1)+x**4-3*x**2) - (x**2-3)*dy - (x**2-3)*math.cos(x)*y # y\"\n",
    "def Shooting_method(a):\n",
    "    global yn_array, y_target\n",
    "    dy0 = a\n",
    "\n",
    "    N = 10000\n",
    "    h = (x1 - x0)/N\n",
    "\n",
    "    def Euler_method(xn, yn1, dyn1):\n",
    "        y2 = yn1 + h*dyn1\n",
    "        dy2 = dyn1 + h*f(xn, yn1, dyn1)\n",
    "        return (y2, dy2)\n",
    "\n",
    "    xn = x0\n",
    "    yn = 0\n",
    "    dyn = dy0\n",
    "    yn_array = [yn]\n",
    "    y_target = []\n",
    "    while xn<x1:\n",
    "        yn, dyn = Euler_method(xn, yn, dyn)\n",
    "        yn_array.append(yn)\n",
    "        xn += h\n",
    "        for t in target:\n",
    "            if abs(xn-t)<h/2:\n",
    "                y_target.append(yn)\n",
    "                break\n",
    "    return yn\n",
    "\n",
    "\n",
    "Shooting_method(0.2)"
   ]
  },
  {
   "cell_type": "code",
   "execution_count": 2,
   "metadata": {},
   "outputs": [
    {
     "data": {
      "text/plain": [
       "0.5101580929857517"
      ]
     },
     "execution_count": 2,
     "metadata": {},
     "output_type": "execute_result"
    }
   ],
   "source": [
    "# Метод Ньютона для локализации параметра\n",
    "h = 1e-3\n",
    "F = lambda a: Shooting_method(a) - y1\n",
    "dF = lambda a: (F(a+h)-F(a))/h\n",
    "\n",
    "an = 0.1\n",
    "for i in range(1000):\n",
    "    an = an - (F(an)/dF(an))\n",
    " \n",
    "Shooting_method(an) - math.pi**2"
   ]
  },
  {
   "cell_type": "code",
   "execution_count": 6,
   "metadata": {},
   "outputs": [
    {
     "data": {
      "text/html": [
       "<div>\n",
       "<style scoped>\n",
       "    .dataframe tbody tr th:only-of-type {\n",
       "        vertical-align: middle;\n",
       "    }\n",
       "\n",
       "    .dataframe tbody tr th {\n",
       "        vertical-align: top;\n",
       "    }\n",
       "\n",
       "    .dataframe thead th {\n",
       "        text-align: right;\n",
       "    }\n",
       "</style>\n",
       "<table border=\"1\" class=\"dataframe\">\n",
       "  <thead>\n",
       "    <tr style=\"text-align: right;\">\n",
       "      <th></th>\n",
       "      <th>0</th>\n",
       "      <th>1</th>\n",
       "      <th>2</th>\n",
       "      <th>3</th>\n",
       "      <th>4</th>\n",
       "      <th>5</th>\n",
       "    </tr>\n",
       "  </thead>\n",
       "  <tbody>\n",
       "    <tr>\n",
       "      <th>x</th>\n",
       "      <td>0.500000</td>\n",
       "      <td>1.000000</td>\n",
       "      <td>1.500000</td>\n",
       "      <td>2.000000</td>\n",
       "      <td>2.50000</td>\n",
       "      <td>3.000000</td>\n",
       "    </tr>\n",
       "    <tr>\n",
       "      <th>y</th>\n",
       "      <td>0.710254</td>\n",
       "      <td>2.228491</td>\n",
       "      <td>3.954398</td>\n",
       "      <td>5.597702</td>\n",
       "      <td>7.68425</td>\n",
       "      <td>9.505927</td>\n",
       "    </tr>\n",
       "  </tbody>\n",
       "</table>\n",
       "</div>"
      ],
      "text/plain": [
       "          0         1         2         3        4         5\n",
       "x  0.500000  1.000000  1.500000  2.000000  2.50000  3.000000\n",
       "y  0.710254  2.228491  3.954398  5.597702  7.68425  9.505927"
      ]
     },
     "execution_count": 6,
     "metadata": {},
     "output_type": "execute_result"
    }
   ],
   "source": [
    "pd.DataFrame({'x': target, 'y': y_target}).transpose()"
   ]
  }
 ],
 "metadata": {
  "interpreter": {
   "hash": "7a542ca580817fc4dd55327026e074e2fa0cd470fc5dee9350c2d8b13822db8d"
  },
  "kernelspec": {
   "display_name": "Python 3.8.5 32-bit",
   "language": "python",
   "name": "python3"
  },
  "language_info": {
   "codemirror_mode": {
    "name": "ipython",
    "version": 3
   },
   "file_extension": ".py",
   "mimetype": "text/x-python",
   "name": "python",
   "nbconvert_exporter": "python",
   "pygments_lexer": "ipython3",
   "version": "3.8.5"
  },
  "orig_nbformat": 4
 },
 "nbformat": 4,
 "nbformat_minor": 2
}
